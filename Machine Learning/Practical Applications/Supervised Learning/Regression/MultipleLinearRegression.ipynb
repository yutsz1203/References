{
 "cells": [
  {
   "cell_type": "markdown",
   "id": "ce1620fc",
   "metadata": {},
   "source": [
    "https://www.datacamp.com/tutorial/sklearn-linear-regression\n",
    "Continue reading the multiple linear regression part"
   ]
  }
 ],
 "metadata": {
  "language_info": {
   "name": "python"
  }
 },
 "nbformat": 4,
 "nbformat_minor": 5
}
